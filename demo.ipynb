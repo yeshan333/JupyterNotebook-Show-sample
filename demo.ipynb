{
 "cells": [
  {
   "cell_type": "markdown",
   "metadata": {},
   "source": [
    "[Python-100-Days：https://github.com/jackfrued/Python-100-Days](https://github.com/jackfrued/Python-100-Days)"
   ]
  },
  {
   "cell_type": "code",
   "execution_count": 1,
   "metadata": {},
   "outputs": [
    {
     "name": "stdout",
     "output_type": "stream",
     "text": [
      "□ □ □ ■ □ □ □ □ □ □ \n",
      "□ □ □ □ □ □ □ □ □ □ \n",
      "□ □ □ □ ■ □ □ □ □ □ \n",
      "□ □ □ ■ □ ■ □ □ ■ ■ \n",
      "■ □ □ ■ □ □ ■ □ ■ ■ \n",
      "□ □ ■ □ ■ ■ □ □ ■ □ \n",
      "■ □ ■ □ ■ □ □ ■ □ □ \n",
      "□ ■ □ □ ■ ■ ■ □ □ □ \n",
      "■ ■ □ □ ■ ■ □ □ ■ □ \n",
      "■ □ □ ■ □ □ □ □ □ □ \n"
     ]
    }
   ],
   "source": [
    "\"\"\"\n",
    "- 随机迷宫生成\n",
    "- 简单的使用回溯法生成 Tile Based 迷宫：https://indienova.com/indie-game-development/generate-tile-based-maze-with-backtracking/\n",
    "\"\"\"\n",
    "import random\n",
    "\n",
    "WALL = -1   # 墙\n",
    "ROAD = 0    # 通路\n",
    "\n",
    "ROWS = 10\n",
    "COLS = 10\n",
    "\n",
    "def reset(maze):\n",
    "    \"\"\"重置迷宫\"\"\"\n",
    "    for i in range(ROWS):\n",
    "        for j in range(COLS):\n",
    "            num = random.randint(1, 10)\n",
    "            maze[i][j] = WALL if num > 7 else ROAD\n",
    "    maze[0][0] = maze[ROWS - 1][COLS - 1] = ROAD    # 左上角入口，右下角出口\n",
    "\n",
    "\n",
    "def display(maze):\n",
    "    \"\"\"显示迷宫\"\"\"\n",
    "    for row in maze:\n",
    "        for col in row:\n",
    "            if col == -1:\n",
    "                print('■', end=' ')\n",
    "            elif col == 0:\n",
    "                print('□', end=' ')\n",
    "        print() # 换行\n",
    "\n",
    "def main():\n",
    "    maze = [[0] * COLS for _ in range(ROWS)]\n",
    "    reset(maze)\n",
    "    display(maze)\n",
    "    \n",
    "main()"
   ]
  },
  {
   "cell_type": "code",
   "execution_count": null,
   "metadata": {},
   "outputs": [],
   "source": []
  }
 ],
 "metadata": {
  "kernelspec": {
   "display_name": "Python 3",
   "language": "python",
   "name": "python3"
  },
  "language_info": {
   "codemirror_mode": {
    "name": "ipython",
    "version": 3
   },
   "file_extension": ".py",
   "mimetype": "text/x-python",
   "name": "python",
   "nbconvert_exporter": "python",
   "pygments_lexer": "ipython3",
   "version": "3.7.3"
  }
 },
 "nbformat": 4,
 "nbformat_minor": 2
}
